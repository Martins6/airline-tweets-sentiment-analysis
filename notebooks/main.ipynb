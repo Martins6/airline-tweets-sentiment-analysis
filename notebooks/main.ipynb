{
 "cells": [
  {
   "cell_type": "markdown",
   "metadata": {},
   "source": [
    "# Airline Sentiment Analysis"
   ]
  },
  {
   "cell_type": "code",
   "execution_count": 44,
   "metadata": {},
   "outputs": [],
   "source": [
    "# data wrangling\n",
    "import pandas as pd\n",
    "import numpy as np\n",
    "\n",
    "from sklearn.preprocessing import LabelEncoder\n",
    "from sklearn.model_selection import train_test_split\n",
    "\n",
    "# stats\n",
    "from sklearn.metrics import f1_score, accuracy_score\n",
    "\n",
    "# classifiers\n",
    "from sklearn.svm import LinearSVC\n",
    "\n",
    "# NLP\n",
    "from sentence_transformers import SentenceTransformer\n",
    "from sklearn.feature_extraction.text import TfidfVectorizer\n",
    "\n",
    "# pytorch framework\n",
    "import torch\n",
    "from torch import nn\n",
    "import torch.nn.functional as F\n",
    "\n",
    "from torch.utils.data import Dataset, DataLoader, random_split\n",
    "from torchvision import transforms, utils\n",
    "from torch.nn.utils.rnn import pad_sequence\n",
    "\n",
    "# pytorch-lightning framework\n",
    "import pytorch_lightning as pl\n",
    "\n",
    "# data viz\n",
    "import matplotlib.pyplot as plt\n",
    "import seaborn as sns\n",
    "\n",
    "# utils\n",
    "import shutil\n",
    "import os"
   ]
  },
  {
   "cell_type": "markdown",
   "metadata": {},
   "source": [
    "# Data Wrangling"
   ]
  },
  {
   "cell_type": "code",
   "execution_count": 3,
   "metadata": {},
   "outputs": [
    {
     "name": "stdout",
     "output_type": "stream",
     "text": [
      "(14640, 4)\n"
     ]
    },
    {
     "data": {
      "text/html": [
       "<div>\n",
       "<style scoped>\n",
       "    .dataframe tbody tr th:only-of-type {\n",
       "        vertical-align: middle;\n",
       "    }\n",
       "\n",
       "    .dataframe tbody tr th {\n",
       "        vertical-align: top;\n",
       "    }\n",
       "\n",
       "    .dataframe thead th {\n",
       "        text-align: right;\n",
       "    }\n",
       "</style>\n",
       "<table border=\"1\" class=\"dataframe\">\n",
       "  <thead>\n",
       "    <tr style=\"text-align: right;\">\n",
       "      <th></th>\n",
       "      <th>tweet_id</th>\n",
       "      <th>airline</th>\n",
       "      <th>airline_sentiment</th>\n",
       "      <th>text</th>\n",
       "    </tr>\n",
       "  </thead>\n",
       "  <tbody>\n",
       "    <tr>\n",
       "      <th>0</th>\n",
       "      <td>570306133677760513</td>\n",
       "      <td>Virgin America</td>\n",
       "      <td>neutral</td>\n",
       "      <td>@VirginAmerica What @dhepburn said.</td>\n",
       "    </tr>\n",
       "    <tr>\n",
       "      <th>1</th>\n",
       "      <td>570301130888122368</td>\n",
       "      <td>Virgin America</td>\n",
       "      <td>positive</td>\n",
       "      <td>@VirginAmerica plus you've added commercials t...</td>\n",
       "    </tr>\n",
       "    <tr>\n",
       "      <th>2</th>\n",
       "      <td>570301083672813571</td>\n",
       "      <td>Virgin America</td>\n",
       "      <td>neutral</td>\n",
       "      <td>@VirginAmerica I didn't today... Must mean I n...</td>\n",
       "    </tr>\n",
       "  </tbody>\n",
       "</table>\n",
       "</div>"
      ],
      "text/plain": [
       "             tweet_id         airline airline_sentiment  \\\n",
       "0  570306133677760513  Virgin America           neutral   \n",
       "1  570301130888122368  Virgin America          positive   \n",
       "2  570301083672813571  Virgin America           neutral   \n",
       "\n",
       "                                                text  \n",
       "0                @VirginAmerica What @dhepburn said.  \n",
       "1  @VirginAmerica plus you've added commercials t...  \n",
       "2  @VirginAmerica I didn't today... Must mean I n...  "
      ]
     },
     "execution_count": 3,
     "metadata": {},
     "output_type": "execute_result"
    }
   ],
   "source": [
    "tweets_df = pd.read_csv('../data/Tweets.csv')[['tweet_id', 'airline', 'airline_sentiment', 'text']]\n",
    "print(tweets_df.shape)\n",
    "tweets_df.head(3)"
   ]
  },
  {
   "cell_type": "markdown",
   "metadata": {},
   "source": [
    "# Exploratory Data Analysis"
   ]
  },
  {
   "cell_type": "code",
   "execution_count": 4,
   "metadata": {},
   "outputs": [
    {
     "data": {
      "text/plain": [
       "<AxesSubplot:>"
      ]
     },
     "execution_count": 4,
     "metadata": {},
     "output_type": "execute_result"
    },
    {
     "data": {
      "image/png": "[encoded data removed]",
      "text/plain": [
       "<Figure size 432x288 with 1 Axes>"
      ]
     },
     "metadata": {
      "needs_background": "light"
     },
     "output_type": "display_data"
    }
   ],
   "source": [
    "tweets_df['airline'].value_counts(normalize=True).plot(kind='bar')"
   ]
  },
  {
   "cell_type": "code",
   "execution_count": 5,
   "metadata": {},
   "outputs": [
    {
     "data": {
      "text/plain": [
       "<AxesSubplot:xlabel='airline', ylabel='prop'>"
      ]
     },
     "execution_count": 5,
     "metadata": {},
     "output_type": "execute_result"
    },
    {
     "data": {
      "image/png": "[encoded data removed]",
      "text/plain": [
       "<Figure size 432x288 with 1 Axes>"
      ]
     },
     "metadata": {
      "needs_background": "light"
     },
     "output_type": "display_data"
    }
   ],
   "source": [
    "aux = (\n",
    "    tweets_df.groupby(\n",
    "        ['airline', 'airline_sentiment']\n",
    "    ).size() /\n",
    "    tweets_df.groupby(\n",
    "        ['airline']\n",
    "    ).size()\n",
    ").reset_index(name='prop') \n",
    "\n",
    "sns.barplot(\n",
    "    data=aux,\n",
    "    y='prop',\n",
    "    x='airline',\n",
    "    hue='airline_sentiment'\n",
    ")"
   ]
  },
  {
   "cell_type": "markdown",
   "metadata": {},
   "source": [
    "# Modelling"
   ]
  },
  {
   "cell_type": "code",
   "execution_count": 6,
   "metadata": {},
   "outputs": [],
   "source": [
    "def calculate_key_metrics(y_test, y_pred):\n",
    "    ac = accuracy_score(y_test, y_pred)\n",
    "    fs = f1_score(y_test, y_pred, average='weighted')\n",
    "\n",
    "    return pd.Series([ac, fs], index=['accuracy_score', 'f1_score'])"
   ]
  },
  {
   "cell_type": "code",
   "execution_count": 7,
   "metadata": {},
   "outputs": [
    {
     "name": "stdout",
     "output_type": "stream",
     "text": [
      "[(0, 'negative'), (1, 'neutral'), (2, 'positive')]\n"
     ]
    }
   ],
   "source": [
    "le = LabelEncoder()\n",
    "y = le.fit_transform(tweets_df['airline_sentiment'].values)\n",
    "print(list(enumerate(le.classes_)))"
   ]
  },
  {
   "cell_type": "markdown",
   "metadata": {},
   "source": [
    "### TF-IDF + SVM"
   ]
  },
  {
   "cell_type": "code",
   "execution_count": 8,
   "metadata": {},
   "outputs": [],
   "source": [
    "vectorizer = TfidfVectorizer(\n",
    "    stop_words='english',\n",
    "    analyzer='word',\n",
    "    ngram_range=(1,2)\n",
    ")\n",
    "X = vectorizer.fit_transform(tweets_df['text'].tolist())"
   ]
  },
  {
   "cell_type": "code",
   "execution_count": 9,
   "metadata": {},
   "outputs": [],
   "source": [
    "X_train, X_test, y_train, y_test = train_test_split(X, y, test_size=1/3)"
   ]
  },
  {
   "cell_type": "code",
   "execution_count": 10,
   "metadata": {},
   "outputs": [
    {
     "data": {
      "text/plain": [
       "accuracy_score    0.771107\n",
       "f1_score          0.751608\n",
       "dtype: float64"
      ]
     },
     "execution_count": 10,
     "metadata": {},
     "output_type": "execute_result"
    }
   ],
   "source": [
    "svc = LinearSVC()\n",
    "svc.fit(X_train, y_train)\n",
    "y_pred = svc.predict(X_test)\n",
    "\n",
    "calculate_key_metrics(y_test, y_pred)"
   ]
  },
  {
   "cell_type": "markdown",
   "metadata": {},
   "source": [
    "## miniLM (BERT-based Transformer) + Classifier"
   ]
  },
  {
   "cell_type": "code",
   "execution_count": 12,
   "metadata": {},
   "outputs": [
    {
     "data": {
      "application/vnd.jupyter.widget-view+json": {
       "model_id": "77ce11e4bfdb4686b60ca087ef1ba957",
       "version_major": 2,
       "version_minor": 0
      },
      "text/plain": [
       "Batches:   0%|          | 0/458 [00:00<?, ?it/s]"
      ]
     },
     "metadata": {},
     "output_type": "display_data"
    },
    {
     "data": {
      "text/plain": [
       "array([[ 0.00308908,  0.0864738 , -0.04533323, ..., -0.06762805,\n",
       "        -0.00764817, -0.02906492],\n",
       "       [-0.017044  ,  0.04139121,  0.053099  , ..., -0.07246979,\n",
       "         0.00061237, -0.03143206],\n",
       "       [ 0.01765138, -0.00182619,  0.05536727, ..., -0.08177376,\n",
       "        -0.11430355, -0.04604586],\n",
       "       ...,\n",
       "       [-0.03829892,  0.04668225,  0.00996541, ..., -0.00989373,\n",
       "        -0.0421861 , -0.03488282],\n",
       "       [ 0.04306993,  0.04515231,  0.01435219, ..., -0.04968503,\n",
       "        -0.07981985, -0.04574215],\n",
       "       [ 0.02641935,  0.01136149, -0.06087457, ...,  0.06373028,\n",
       "        -0.08687644,  0.02736992]], dtype=float32)"
      ]
     },
     "execution_count": 12,
     "metadata": {},
     "output_type": "execute_result"
    }
   ],
   "source": [
    "sentence_model = SentenceTransformer('all-MiniLM-L12-v2')\n",
    "embeddings = sentence_model.encode(\n",
    "    tweets_df['text'].tolist(),\n",
    "    show_progress_bar=True\n",
    ")\n",
    "embeddings"
   ]
  },
  {
   "cell_type": "code",
   "execution_count": null,
   "metadata": {},
   "outputs": [],
   "source": [
    "# disable boring warnings from the sentence_transformers library\n",
    "os.environ[\"TOKENIZERS_PARALLELISM\"] = \"false\""
   ]
  },
  {
   "cell_type": "markdown",
   "metadata": {},
   "source": [
    "### SVM"
   ]
  },
  {
   "cell_type": "code",
   "execution_count": 13,
   "metadata": {},
   "outputs": [],
   "source": [
    "X_train, X_test, y_train, y_test = train_test_split(embeddings, y, test_size=1/3)"
   ]
  },
  {
   "cell_type": "code",
   "execution_count": 14,
   "metadata": {},
   "outputs": [
    {
     "data": {
      "text/plain": [
       "accuracy_score    0.829918\n",
       "f1_score          0.825445\n",
       "dtype: float64"
      ]
     },
     "execution_count": 14,
     "metadata": {},
     "output_type": "execute_result"
    }
   ],
   "source": [
    "svc = LinearSVC()\n",
    "svc.fit(X_train, y_train)\n",
    "y_pred = svc.predict(X_test)\n",
    "\n",
    "calculate_key_metrics(y_test, y_pred)"
   ]
  },
  {
   "cell_type": "markdown",
   "metadata": {},
   "source": [
    "### Neural Networks (Linear Layer)"
   ]
  },
  {
   "cell_type": "code",
   "execution_count": 37,
   "metadata": {},
   "outputs": [
    {
     "name": "stdout",
     "output_type": "stream",
     "text": [
      "None torch.Size([384])\n"
     ]
    }
   ],
   "source": [
    "class EmbeddingArray(Dataset):\n",
    "    \"\"\"Our Pytorch Dataset for our embeddings.\n",
    "    \"\"\"\n",
    "    def __init__(self, embeddings:np.ndarray, y:np.ndarray=None, transform=None):\n",
    "        \n",
    "        self.embeddings = embeddings\n",
    "        self.transform = transform\n",
    "        self.y = y\n",
    "\n",
    "    def __len__(self):\n",
    "        return self.embeddings.shape[0]\n",
    "    \n",
    "    def __getitem__(self, idx):\n",
    "        label = self.y[idx] if isinstance(self.y, np.ndarray) else None\n",
    "        features = self.embeddings[idx]\n",
    "            \n",
    "        sample = {'label': label, 'features': features}\n",
    "        \n",
    "        if self.transform:\n",
    "            sample = self.transform(sample)\n",
    "\n",
    "        return sample\n",
    "\n",
    "\n",
    "class ToTensor(object):\n",
    "    \"\"\"Convert ndarrays in sample to Tensors.\"\"\"\n",
    "    def __call__(self, sample):\n",
    "        label, features = sample['label'], sample['features']\n",
    "\n",
    "        # If data is to be predicted.\n",
    "        if not isinstance(label, np.ndarray):\n",
    "            sample = {\n",
    "                'label': label,\n",
    "                'features': torch.from_numpy(features).type(torch.FloatTensor)\n",
    "            }\n",
    "        else:\n",
    "            sample = {\n",
    "                'label': torch.from_numpy(np.array(label)).type(torch.LongTensor),\n",
    "                'features': torch.from_numpy(features).type(torch.FloatTensor)\n",
    "            }\n",
    "        \n",
    "        return sample\n",
    "\n",
    "for sample in EmbeddingArray(embeddings=embeddings, transform=ToTensor()):\n",
    "    print(sample['label'], sample['features'].shape)\n",
    "    break"
   ]
  },
  {
   "cell_type": "code",
   "execution_count": 38,
   "metadata": {},
   "outputs": [],
   "source": [
    "# 10% test, 9% validation, 81% train\n",
    "X_train, X_test, y_train, y_test = train_test_split(embeddings, y, test_size=1/10)\n",
    "X_train, X_val, y_train, y_val = train_test_split(X_train, y_train, test_size=1/10)\n",
    "\n",
    "dataset_dict = {\n",
    "    'train': EmbeddingArray(embeddings=X_train,y=y_train,transform=ToTensor()),\n",
    "    'test': EmbeddingArray(embeddings=X_test,y=y_test,transform=ToTensor()),\n",
    "    'val': EmbeddingArray(embeddings=X_val,y=y_val,transform=ToTensor())\n",
    "}"
   ]
  },
  {
   "cell_type": "markdown",
   "metadata": {},
   "source": [
    "After we have trained the model we can inspectionate the model performance via the shell command:\n",
    "\n",
    "\"tensorboard --logdir=lightning_logs/ --host=0.0.0.0\".\n",
    "\n",
    "The tensoboard package is more complete than any plots that we could make."
   ]
  },
  {
   "cell_type": "code",
   "execution_count": 69,
   "metadata": {},
   "outputs": [
    {
     "name": "stderr",
     "output_type": "stream",
     "text": [
      "GPU available: False, used: False\n",
      "TPU available: False, using: 0 TPU cores\n",
      "IPU available: False, using: 0 IPUs\n",
      "HPU available: False, using: 0 HPUs\n",
      "Missing logger folder: ../lightning_logs\n",
      "\n",
      "  | Name      | Type             | Params\n",
      "-----------------------------------------------\n",
      "0 | fc        | Linear           | 1.2 K \n",
      "1 | criterion | CrossEntropyLoss | 0     \n",
      "-----------------------------------------------\n",
      "1.2 K     Trainable params\n",
      "0         Non-trainable params\n",
      "1.2 K     Total params\n",
      "0.005     Total estimated model params size (MB)\n",
      "/home/adriel-martins/.cache/pypoetry/virtualenvs/airline-sentiment-2PQ9Xza8-py3.8/lib/python3.8/site-packages/pytorch_lightning/trainer/connectors/data_connector.py:240: PossibleUserWarning: The dataloader, val_dataloader 0, does not have many workers which may be a bottleneck. Consider increasing the value of the `num_workers` argument` (try 8 which is the number of cpus on this machine) in the `DataLoader` init to improve performance.\n",
      "  rank_zero_warn(\n",
      "/home/adriel-martins/.cache/pypoetry/virtualenvs/airline-sentiment-2PQ9Xza8-py3.8/lib/python3.8/site-packages/pytorch_lightning/trainer/connectors/data_connector.py:240: PossibleUserWarning: The dataloader, train_dataloader, does not have many workers which may be a bottleneck. Consider increasing the value of the `num_workers` argument` (try 8 which is the number of cpus on this machine) in the `DataLoader` init to improve performance.\n",
      "  rank_zero_warn(\n"
     ]
    }
   ],
   "source": [
    "class LinearClassifier(pl.LightningModule):\n",
    "    def __init__(self,dataset_dict):\n",
    "        super().__init__()\n",
    "\n",
    "        self.dataset_dict = dataset_dict\n",
    "        self.fc = nn.Linear(384, 3) # embedding dim -> sentiments (neg, neut, pos)\n",
    "\n",
    "        self.criterion = nn.CrossEntropyLoss()\n",
    "    \n",
    "    def forward(self, x):\n",
    "        x = self.fc(x)\n",
    "        return x\n",
    "\n",
    "    def training_step(self, batch, batch_idx):\n",
    "        x, y = batch['features'], batch['label']\n",
    "        y_hat = self(x)\n",
    "\n",
    "        loss = self.criterion(y_hat, y)\n",
    "        \n",
    "        self.log(\"train_loss\", loss)\n",
    "        \n",
    "        return loss\n",
    "    \n",
    "    def validation_step(self, batch, batch_idx):\n",
    "        x, y = batch['features'], batch['label']\n",
    "        y_hat = self(x)\n",
    "\n",
    "        loss = self.criterion(y_hat, y)\n",
    "\n",
    "        self.log(\"val_loss\", loss, prog_bar=True)\n",
    "        \n",
    "        return loss\n",
    "\n",
    "    def configure_optimizers(self):\n",
    "        optimizer = torch.optim.Adam(self.parameters(), lr=0.001)\n",
    "        return optimizer\n",
    "    \n",
    "    def train_dataloader(self):\n",
    "        return DataLoader(\n",
    "            self.dataset_dict['train'],\n",
    "            batch_size=100,\n",
    "            num_workers=2,\n",
    "            shuffle=True\n",
    "        )\n",
    "    \n",
    "    def val_dataloader(self):\n",
    "        return DataLoader(\n",
    "            self.dataset_dict['val'],\n",
    "            batch_size=100,\n",
    "            num_workers=2,\n",
    "            shuffle=False\n",
    "        )\n",
    "\n",
    "model = LinearClassifier(\n",
    "    dataset_dict=dataset_dict\n",
    ")\n",
    "\n",
    "\n",
    "# deleting previous model logs\n",
    "shutil.rmtree('../lightning_logs', ignore_errors=True)\n",
    "\n",
    "trainer = pl.Trainer(\n",
    "    default_root_dir='../',\n",
    "    #log_every_n_steps=5,\n",
    "    max_epochs=20,\n",
    "    enable_progress_bar=False\n",
    ")\n",
    "\n",
    "trainer.fit(model)"
   ]
  },
  {
   "cell_type": "code",
   "execution_count": 70,
   "metadata": {},
   "outputs": [
    {
     "data": {
      "text/plain": [
       "accuracy_score    0.793033\n",
       "f1_score          0.781258\n",
       "dtype: float64"
      ]
     },
     "execution_count": 70,
     "metadata": {},
     "output_type": "execute_result"
    }
   ],
   "source": [
    "@torch.no_grad()\n",
    "def predict_class(model, test_dataloader):\n",
    "    for index, sample in enumerate(test_dataloader):\n",
    "        features, label = sample['features'], sample['label']\n",
    "        y_hat = model(features)\n",
    "        preds = nn.functional.softmax(y_hat, dim=1)\n",
    "        y_hat = torch.argmax(preds, dim=1)\n",
    "\n",
    "        if index == 0:\n",
    "            final_tensor = y_hat\n",
    "        else:\n",
    "            final_tensor = torch.cat((final_tensor, y_hat))\n",
    "    return final_tensor\n",
    "\n",
    "y_pred = predict_class(\n",
    "    model,\n",
    "    test_dataloader=DataLoader(\n",
    "        dataset_dict['test'],\n",
    "        batch_size=100,\n",
    "        num_workers=2,\n",
    "        shuffle=False\n",
    "    )\n",
    ").numpy()\n",
    "\n",
    "calculate_key_metrics(y_test, y_pred)"
   ]
  }
 ],
 "metadata": {
  "kernelspec": {
   "display_name": "Python 3.8.10 ('airline-sentiment-2PQ9Xza8-py3.8')",
   "language": "python",
   "name": "python3"
  },
  "language_info": {
   "codemirror_mode": {
    "name": "ipython",
    "version": 3
   },
   "file_extension": ".py",
   "mimetype": "text/x-python",
   "name": "python",
   "nbconvert_exporter": "python",
   "pygments_lexer": "ipython3",
   "version": "3.8.10"
  },
  "orig_nbformat": 4,
  "vscode": {
   "interpreter": {
    "hash": "959bf39b2a70b6f7ddf689429ac45fb914590d9e3fe2ca4496696a9aa926ebbf"
   }
  }
 },
 "nbformat": 4,
 "nbformat_minor": 2
}
